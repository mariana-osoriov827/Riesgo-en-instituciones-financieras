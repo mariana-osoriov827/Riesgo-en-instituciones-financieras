{
  "nbformat": 4,
  "nbformat_minor": 0,
  "metadata": {
    "colab": {
      "provenance": []
    },
    "kernelspec": {
      "name": "python3",
      "display_name": "Python 3"
    },
    "language_info": {
      "name": "python"
    }
  },
  "cells": [
    {
      "cell_type": "markdown",
      "source": [
        "####**Descargando Librerías**"
      ],
      "metadata": {
        "id": "G1SE76aSMYaB"
      }
    },
    {
      "cell_type": "code",
      "execution_count": 1,
      "metadata": {
        "id": "WrG62W0vLv4L"
      },
      "outputs": [],
      "source": [
        "import pandas as pd\n",
        "import numpy as np\n",
        "from sklearn.model_selection import train_test_split\n",
        "from sklearn.preprocessing import StandardScaler\n",
        "from sklearn.neighbors import KNeighborsClassifier\n",
        "from sklearn.metrics import classification_report, accuracy_score, confusion_matrix\n",
        "import matplotlib.pyplot as plt\n",
        "import seaborn as sns"
      ]
    },
    {
      "cell_type": "markdown",
      "source": [
        "####**Generando de Datos Sintéticos de Ejemplo y ajustándolos**"
      ],
      "metadata": {
        "id": "c9eKMJBvMkkB"
      }
    },
    {
      "cell_type": "markdown",
      "source": [
        "Se creará un dataset que simula datos de solicitantes de préstamos. En un escenario real, cargarías tus datos desde un CSV, base de datos, etc."
      ],
      "metadata": {
        "id": "jrDm4XunMrQv"
      }
    },
    {
      "cell_type": "code",
      "source": [
        "np.random.seed(42)\n",
        "num_applicants = 1000\n",
        "\n",
        "data = {\n",
        "    'Ingreso_Anual': np.random.normal(loc=50000, scale=15000, size=num_applicants),\n",
        "    'Puntaje_Crediticio': np.random.normal(loc=650, scale=80, size=num_applicants),\n",
        "    'Monto_Prestamo_Solicitado': np.random.normal(loc=15000, scale=5000, size=num_applicants),\n",
        "    'Edad': np.random.randint(22, 65, size=num_applicants),\n",
        "    'Deuda_Existente': np.random.normal(loc=5000, scale=3000, size=num_applicants),\n",
        "    'Default': np.random.randint(0, 2, size=num_applicants) # 0 = No Default, 1 = Default\n",
        "}\n",
        "df = pd.DataFrame(data)"
      ],
      "metadata": {
        "id": "JP8F63TUL1o0"
      },
      "execution_count": 2,
      "outputs": []
    },
    {
      "cell_type": "code",
      "source": [
        "# Introduciendo algunas correlaciones para hacer los datos más realistas:\n",
        "# Personas con menor ingreso/puntaje crediticio/mayor deuda/mayor monto_prestamo tienen más probabilidad de default\n",
        "df['Default'] = df.apply(lambda row: 1 if (row['Ingreso_Anual'] < 40000 and row['Puntaje_Crediticio'] < 600) or \\\n",
        "                                          (row['Deuda_Existente'] > 7000 and row['Monto_Prestamo_Solicitado'] > 20000) else row['Default'], axis=1)"
      ],
      "metadata": {
        "id": "T4YaUSwPM8uN"
      },
      "execution_count": 3,
      "outputs": []
    },
    {
      "cell_type": "markdown",
      "source": [
        "La función lambda está ajustando la columna 'Default' del DataFrame así:\n",
        "\n",
        "Para cada solicitante (fila):\n",
        "\n",
        "* Si el solicitante tiene un ingreso anual bajo (menos de 40,000) y un puntaje\n",
        "crediticio bajo (menos de 600), se le asigna un 1 (Impago).\n",
        "* O si el solicitante tiene una deuda existente alta (más de 7,000) y está solicitando un monto de préstamo alto (más de 20,000), también se le asigna un 1 (Impago).\n",
        "* Si ninguna de estas condiciones se cumple, el estado de 'Default' de ese solicitante se mantiene como estaba inicialmente en el DataFrame."
      ],
      "metadata": {
        "id": "OESp_ezWOVZt"
      }
    },
    {
      "cell_type": "code",
      "source": [
        "# Asegurando que 'Default' sea binario (0 o 1)\n",
        "\n",
        "df['Default'] = df['Default'].apply(lambda x: 1 if x > 0.5 else 0)"
      ],
      "metadata": {
        "id": "KgUYpuGwNCst"
      },
      "execution_count": 4,
      "outputs": []
    },
    {
      "cell_type": "markdown",
      "source": [
        "####**Visualizando tabla de datos**"
      ],
      "metadata": {
        "id": "U7PBJBX7PEcO"
      }
    },
    {
      "cell_type": "code",
      "source": [
        "df.head()"
      ],
      "metadata": {
        "id": "6gHCq6MVO9sJ",
        "outputId": "9f97b4d6-53fc-418c-f877-7a9f5842f739",
        "colab": {
          "base_uri": "https://localhost:8080/",
          "height": 206
        }
      },
      "execution_count": 5,
      "outputs": [
        {
          "output_type": "execute_result",
          "data": {
            "text/plain": [
              "   Ingreso_Anual  Puntaje_Crediticio  Monto_Prestamo_Solicitado  Edad  \\\n",
              "0   57450.712295          761.948435               11624.108625    49   \n",
              "1   47926.035482          723.970695               14277.406646    51   \n",
              "2   59715.328072          654.770430               11037.900395    30   \n",
              "3   72845.447846          598.245058               13460.192352    60   \n",
              "4   46487.699379          705.857865                5531.926665    52   \n",
              "\n",
              "   Deuda_Existente  Default  \n",
              "0      4677.935628        1  \n",
              "1      7998.257098        1  \n",
              "2     10709.878063        1  \n",
              "3      7262.227799        1  \n",
              "4      6439.039219        1  "
            ],
            "text/html": [
              "\n",
              "  <div id=\"df-123be56a-fabd-488d-8abd-1395ea5bd6e3\" class=\"colab-df-container\">\n",
              "    <div>\n",
              "<style scoped>\n",
              "    .dataframe tbody tr th:only-of-type {\n",
              "        vertical-align: middle;\n",
              "    }\n",
              "\n",
              "    .dataframe tbody tr th {\n",
              "        vertical-align: top;\n",
              "    }\n",
              "\n",
              "    .dataframe thead th {\n",
              "        text-align: right;\n",
              "    }\n",
              "</style>\n",
              "<table border=\"1\" class=\"dataframe\">\n",
              "  <thead>\n",
              "    <tr style=\"text-align: right;\">\n",
              "      <th></th>\n",
              "      <th>Ingreso_Anual</th>\n",
              "      <th>Puntaje_Crediticio</th>\n",
              "      <th>Monto_Prestamo_Solicitado</th>\n",
              "      <th>Edad</th>\n",
              "      <th>Deuda_Existente</th>\n",
              "      <th>Default</th>\n",
              "    </tr>\n",
              "  </thead>\n",
              "  <tbody>\n",
              "    <tr>\n",
              "      <th>0</th>\n",
              "      <td>57450.712295</td>\n",
              "      <td>761.948435</td>\n",
              "      <td>11624.108625</td>\n",
              "      <td>49</td>\n",
              "      <td>4677.935628</td>\n",
              "      <td>1</td>\n",
              "    </tr>\n",
              "    <tr>\n",
              "      <th>1</th>\n",
              "      <td>47926.035482</td>\n",
              "      <td>723.970695</td>\n",
              "      <td>14277.406646</td>\n",
              "      <td>51</td>\n",
              "      <td>7998.257098</td>\n",
              "      <td>1</td>\n",
              "    </tr>\n",
              "    <tr>\n",
              "      <th>2</th>\n",
              "      <td>59715.328072</td>\n",
              "      <td>654.770430</td>\n",
              "      <td>11037.900395</td>\n",
              "      <td>30</td>\n",
              "      <td>10709.878063</td>\n",
              "      <td>1</td>\n",
              "    </tr>\n",
              "    <tr>\n",
              "      <th>3</th>\n",
              "      <td>72845.447846</td>\n",
              "      <td>598.245058</td>\n",
              "      <td>13460.192352</td>\n",
              "      <td>60</td>\n",
              "      <td>7262.227799</td>\n",
              "      <td>1</td>\n",
              "    </tr>\n",
              "    <tr>\n",
              "      <th>4</th>\n",
              "      <td>46487.699379</td>\n",
              "      <td>705.857865</td>\n",
              "      <td>5531.926665</td>\n",
              "      <td>52</td>\n",
              "      <td>6439.039219</td>\n",
              "      <td>1</td>\n",
              "    </tr>\n",
              "  </tbody>\n",
              "</table>\n",
              "</div>\n",
              "    <div class=\"colab-df-buttons\">\n",
              "\n",
              "  <div class=\"colab-df-container\">\n",
              "    <button class=\"colab-df-convert\" onclick=\"convertToInteractive('df-123be56a-fabd-488d-8abd-1395ea5bd6e3')\"\n",
              "            title=\"Convert this dataframe to an interactive table.\"\n",
              "            style=\"display:none;\">\n",
              "\n",
              "  <svg xmlns=\"http://www.w3.org/2000/svg\" height=\"24px\" viewBox=\"0 -960 960 960\">\n",
              "    <path d=\"M120-120v-720h720v720H120Zm60-500h600v-160H180v160Zm220 220h160v-160H400v160Zm0 220h160v-160H400v160ZM180-400h160v-160H180v160Zm440 0h160v-160H620v160ZM180-180h160v-160H180v160Zm440 0h160v-160H620v160Z\"/>\n",
              "  </svg>\n",
              "    </button>\n",
              "\n",
              "  <style>\n",
              "    .colab-df-container {\n",
              "      display:flex;\n",
              "      gap: 12px;\n",
              "    }\n",
              "\n",
              "    .colab-df-convert {\n",
              "      background-color: #E8F0FE;\n",
              "      border: none;\n",
              "      border-radius: 50%;\n",
              "      cursor: pointer;\n",
              "      display: none;\n",
              "      fill: #1967D2;\n",
              "      height: 32px;\n",
              "      padding: 0 0 0 0;\n",
              "      width: 32px;\n",
              "    }\n",
              "\n",
              "    .colab-df-convert:hover {\n",
              "      background-color: #E2EBFA;\n",
              "      box-shadow: 0px 1px 2px rgba(60, 64, 67, 0.3), 0px 1px 3px 1px rgba(60, 64, 67, 0.15);\n",
              "      fill: #174EA6;\n",
              "    }\n",
              "\n",
              "    .colab-df-buttons div {\n",
              "      margin-bottom: 4px;\n",
              "    }\n",
              "\n",
              "    [theme=dark] .colab-df-convert {\n",
              "      background-color: #3B4455;\n",
              "      fill: #D2E3FC;\n",
              "    }\n",
              "\n",
              "    [theme=dark] .colab-df-convert:hover {\n",
              "      background-color: #434B5C;\n",
              "      box-shadow: 0px 1px 3px 1px rgba(0, 0, 0, 0.15);\n",
              "      filter: drop-shadow(0px 1px 2px rgba(0, 0, 0, 0.3));\n",
              "      fill: #FFFFFF;\n",
              "    }\n",
              "  </style>\n",
              "\n",
              "    <script>\n",
              "      const buttonEl =\n",
              "        document.querySelector('#df-123be56a-fabd-488d-8abd-1395ea5bd6e3 button.colab-df-convert');\n",
              "      buttonEl.style.display =\n",
              "        google.colab.kernel.accessAllowed ? 'block' : 'none';\n",
              "\n",
              "      async function convertToInteractive(key) {\n",
              "        const element = document.querySelector('#df-123be56a-fabd-488d-8abd-1395ea5bd6e3');\n",
              "        const dataTable =\n",
              "          await google.colab.kernel.invokeFunction('convertToInteractive',\n",
              "                                                    [key], {});\n",
              "        if (!dataTable) return;\n",
              "\n",
              "        const docLinkHtml = 'Like what you see? Visit the ' +\n",
              "          '<a target=\"_blank\" href=https://colab.research.google.com/notebooks/data_table.ipynb>data table notebook</a>'\n",
              "          + ' to learn more about interactive tables.';\n",
              "        element.innerHTML = '';\n",
              "        dataTable['output_type'] = 'display_data';\n",
              "        await google.colab.output.renderOutput(dataTable, element);\n",
              "        const docLink = document.createElement('div');\n",
              "        docLink.innerHTML = docLinkHtml;\n",
              "        element.appendChild(docLink);\n",
              "      }\n",
              "    </script>\n",
              "  </div>\n",
              "\n",
              "\n",
              "    <div id=\"df-efa47f68-0f93-495e-828c-d6c6dd709894\">\n",
              "      <button class=\"colab-df-quickchart\" onclick=\"quickchart('df-efa47f68-0f93-495e-828c-d6c6dd709894')\"\n",
              "                title=\"Suggest charts\"\n",
              "                style=\"display:none;\">\n",
              "\n",
              "<svg xmlns=\"http://www.w3.org/2000/svg\" height=\"24px\"viewBox=\"0 0 24 24\"\n",
              "     width=\"24px\">\n",
              "    <g>\n",
              "        <path d=\"M19 3H5c-1.1 0-2 .9-2 2v14c0 1.1.9 2 2 2h14c1.1 0 2-.9 2-2V5c0-1.1-.9-2-2-2zM9 17H7v-7h2v7zm4 0h-2V7h2v10zm4 0h-2v-4h2v4z\"/>\n",
              "    </g>\n",
              "</svg>\n",
              "      </button>\n",
              "\n",
              "<style>\n",
              "  .colab-df-quickchart {\n",
              "      --bg-color: #E8F0FE;\n",
              "      --fill-color: #1967D2;\n",
              "      --hover-bg-color: #E2EBFA;\n",
              "      --hover-fill-color: #174EA6;\n",
              "      --disabled-fill-color: #AAA;\n",
              "      --disabled-bg-color: #DDD;\n",
              "  }\n",
              "\n",
              "  [theme=dark] .colab-df-quickchart {\n",
              "      --bg-color: #3B4455;\n",
              "      --fill-color: #D2E3FC;\n",
              "      --hover-bg-color: #434B5C;\n",
              "      --hover-fill-color: #FFFFFF;\n",
              "      --disabled-bg-color: #3B4455;\n",
              "      --disabled-fill-color: #666;\n",
              "  }\n",
              "\n",
              "  .colab-df-quickchart {\n",
              "    background-color: var(--bg-color);\n",
              "    border: none;\n",
              "    border-radius: 50%;\n",
              "    cursor: pointer;\n",
              "    display: none;\n",
              "    fill: var(--fill-color);\n",
              "    height: 32px;\n",
              "    padding: 0;\n",
              "    width: 32px;\n",
              "  }\n",
              "\n",
              "  .colab-df-quickchart:hover {\n",
              "    background-color: var(--hover-bg-color);\n",
              "    box-shadow: 0 1px 2px rgba(60, 64, 67, 0.3), 0 1px 3px 1px rgba(60, 64, 67, 0.15);\n",
              "    fill: var(--button-hover-fill-color);\n",
              "  }\n",
              "\n",
              "  .colab-df-quickchart-complete:disabled,\n",
              "  .colab-df-quickchart-complete:disabled:hover {\n",
              "    background-color: var(--disabled-bg-color);\n",
              "    fill: var(--disabled-fill-color);\n",
              "    box-shadow: none;\n",
              "  }\n",
              "\n",
              "  .colab-df-spinner {\n",
              "    border: 2px solid var(--fill-color);\n",
              "    border-color: transparent;\n",
              "    border-bottom-color: var(--fill-color);\n",
              "    animation:\n",
              "      spin 1s steps(1) infinite;\n",
              "  }\n",
              "\n",
              "  @keyframes spin {\n",
              "    0% {\n",
              "      border-color: transparent;\n",
              "      border-bottom-color: var(--fill-color);\n",
              "      border-left-color: var(--fill-color);\n",
              "    }\n",
              "    20% {\n",
              "      border-color: transparent;\n",
              "      border-left-color: var(--fill-color);\n",
              "      border-top-color: var(--fill-color);\n",
              "    }\n",
              "    30% {\n",
              "      border-color: transparent;\n",
              "      border-left-color: var(--fill-color);\n",
              "      border-top-color: var(--fill-color);\n",
              "      border-right-color: var(--fill-color);\n",
              "    }\n",
              "    40% {\n",
              "      border-color: transparent;\n",
              "      border-right-color: var(--fill-color);\n",
              "      border-top-color: var(--fill-color);\n",
              "    }\n",
              "    60% {\n",
              "      border-color: transparent;\n",
              "      border-right-color: var(--fill-color);\n",
              "    }\n",
              "    80% {\n",
              "      border-color: transparent;\n",
              "      border-right-color: var(--fill-color);\n",
              "      border-bottom-color: var(--fill-color);\n",
              "    }\n",
              "    90% {\n",
              "      border-color: transparent;\n",
              "      border-bottom-color: var(--fill-color);\n",
              "    }\n",
              "  }\n",
              "</style>\n",
              "\n",
              "      <script>\n",
              "        async function quickchart(key) {\n",
              "          const quickchartButtonEl =\n",
              "            document.querySelector('#' + key + ' button');\n",
              "          quickchartButtonEl.disabled = true;  // To prevent multiple clicks.\n",
              "          quickchartButtonEl.classList.add('colab-df-spinner');\n",
              "          try {\n",
              "            const charts = await google.colab.kernel.invokeFunction(\n",
              "                'suggestCharts', [key], {});\n",
              "          } catch (error) {\n",
              "            console.error('Error during call to suggestCharts:', error);\n",
              "          }\n",
              "          quickchartButtonEl.classList.remove('colab-df-spinner');\n",
              "          quickchartButtonEl.classList.add('colab-df-quickchart-complete');\n",
              "        }\n",
              "        (() => {\n",
              "          let quickchartButtonEl =\n",
              "            document.querySelector('#df-efa47f68-0f93-495e-828c-d6c6dd709894 button');\n",
              "          quickchartButtonEl.style.display =\n",
              "            google.colab.kernel.accessAllowed ? 'block' : 'none';\n",
              "        })();\n",
              "      </script>\n",
              "    </div>\n",
              "\n",
              "    </div>\n",
              "  </div>\n"
            ],
            "application/vnd.google.colaboratory.intrinsic+json": {
              "type": "dataframe",
              "variable_name": "df",
              "summary": "{\n  \"name\": \"df\",\n  \"rows\": 1000,\n  \"fields\": [\n    {\n      \"column\": \"Ingreso_Anual\",\n      \"properties\": {\n        \"dtype\": \"number\",\n        \"std\": 14688.239072695133,\n        \"min\": 1380.9898989639114,\n        \"max\": 107790.97235982082,\n        \"num_unique_values\": 1000,\n        \"samples\": [\n          58150.402885699026,\n          64740.36475918271,\n          22386.88653002532\n        ],\n        \"semantic_type\": \"\",\n        \"description\": \"\"\n      }\n    },\n    {\n      \"column\": \"Puntaje_Crediticio\",\n      \"properties\": {\n        \"dtype\": \"number\",\n        \"std\": 79.79635017819369,\n        \"min\": 414.76890922685755,\n        \"max\": 905.4486054275889,\n        \"num_unique_values\": 1000,\n        \"samples\": [\n          696.5678162774892,\n          564.5757662736646,\n          641.6440625170022\n        ],\n        \"semantic_type\": \"\",\n        \"description\": \"\"\n      }\n    },\n    {\n      \"column\": \"Monto_Prestamo_Solicitado\",\n      \"properties\": {\n        \"dtype\": \"number\",\n        \"std\": 4917.27140551037,\n        \"min\": -97.5607791041275,\n        \"max\": 34631.18853218164,\n        \"num_unique_values\": 1000,\n        \"samples\": [\n          29926.29501301705,\n          16711.689172448107,\n          17074.327501809552\n        ],\n        \"semantic_type\": \"\",\n        \"description\": \"\"\n      }\n    },\n    {\n      \"column\": \"Edad\",\n      \"properties\": {\n        \"dtype\": \"number\",\n        \"std\": 12,\n        \"min\": 22,\n        \"max\": 64,\n        \"num_unique_values\": 43,\n        \"samples\": [\n          24,\n          48,\n          26\n        ],\n        \"semantic_type\": \"\",\n        \"description\": \"\"\n      }\n    },\n    {\n      \"column\": \"Deuda_Existente\",\n      \"properties\": {\n        \"dtype\": \"number\",\n        \"std\": 2872.7673754171183,\n        \"min\": -3713.3931897312614,\n        \"max\": 12913.084663891703,\n        \"num_unique_values\": 1000,\n        \"samples\": [\n          3125.3707467033496,\n          8289.956806298287,\n          6266.325780469717\n        ],\n        \"semantic_type\": \"\",\n        \"description\": \"\"\n      }\n    },\n    {\n      \"column\": \"Default\",\n      \"properties\": {\n        \"dtype\": \"number\",\n        \"std\": 0,\n        \"min\": 0,\n        \"max\": 1,\n        \"num_unique_values\": 2,\n        \"samples\": [\n          0,\n          1\n        ],\n        \"semantic_type\": \"\",\n        \"description\": \"\"\n      }\n    }\n  ]\n}"
            }
          },
          "metadata": {},
          "execution_count": 5
        }
      ]
    },
    {
      "cell_type": "code",
      "source": [
        "print(\"\\nConteo de defaults (0=No Default, 1=Default):\")\n",
        "df['Default'].value_counts(ascending=True)"
      ],
      "metadata": {
        "id": "RSEIoTiXUv4E",
        "outputId": "d9f2c9b0-7466-470f-fdf0-78b90405aa43",
        "colab": {
          "base_uri": "https://localhost:8080/",
          "height": 213
        }
      },
      "execution_count": 6,
      "outputs": [
        {
          "output_type": "stream",
          "name": "stdout",
          "text": [
            "\n",
            "Conteo de defaults (0=No Default, 1=Default):\n"
          ]
        },
        {
          "output_type": "execute_result",
          "data": {
            "text/plain": [
              "Default\n",
              "0    456\n",
              "1    544\n",
              "Name: count, dtype: int64"
            ],
            "text/html": [
              "<div>\n",
              "<style scoped>\n",
              "    .dataframe tbody tr th:only-of-type {\n",
              "        vertical-align: middle;\n",
              "    }\n",
              "\n",
              "    .dataframe tbody tr th {\n",
              "        vertical-align: top;\n",
              "    }\n",
              "\n",
              "    .dataframe thead th {\n",
              "        text-align: right;\n",
              "    }\n",
              "</style>\n",
              "<table border=\"1\" class=\"dataframe\">\n",
              "  <thead>\n",
              "    <tr style=\"text-align: right;\">\n",
              "      <th></th>\n",
              "      <th>count</th>\n",
              "    </tr>\n",
              "    <tr>\n",
              "      <th>Default</th>\n",
              "      <th></th>\n",
              "    </tr>\n",
              "  </thead>\n",
              "  <tbody>\n",
              "    <tr>\n",
              "      <th>0</th>\n",
              "      <td>456</td>\n",
              "    </tr>\n",
              "    <tr>\n",
              "      <th>1</th>\n",
              "      <td>544</td>\n",
              "    </tr>\n",
              "  </tbody>\n",
              "</table>\n",
              "</div><br><label><b>dtype:</b> int64</label>"
            ]
          },
          "metadata": {},
          "execution_count": 6
        }
      ]
    },
    {
      "cell_type": "markdown",
      "source": [
        "#### **Análisis Descriptivo de Datos y Visualización**"
      ],
      "metadata": {
        "id": "S7ZeM7A-SZj4"
      }
    },
    {
      "cell_type": "markdown",
      "source": [
        "#####**Resumen Estadístico**"
      ],
      "metadata": {
        "id": "y8NkHxWSS4cn"
      }
    },
    {
      "cell_type": "code",
      "metadata": {
        "id": "af25ca9f"
      },
      "source": [
        "df.describe()"
      ],
      "execution_count": null,
      "outputs": []
    },
    {
      "cell_type": "markdown",
      "source": [
        "#####**Distribución de la Variable Objetivo ('Default')**"
      ],
      "metadata": {
        "id": "szfp2VnBTAwz"
      }
    },
    {
      "cell_type": "code",
      "source": [
        "plt.figure(figsize=(6, 4))\n",
        "sns.countplot(x='Default', data=df, palette='coolwarm')\n",
        "plt.title('Distribución de la Variable Objetivo (Default)')\n",
        "plt.xlabel('Default (0: No, 1: Sí)')\n",
        "plt.ylabel('Frecuencia')\n",
        "plt.xticks([0, 1], ['No Default', 'Default'])\n",
        "plt.show()\n",
        "print(\"-\" * 60)"
      ],
      "metadata": {
        "id": "S-iZXfUrSgNy"
      },
      "execution_count": null,
      "outputs": []
    },
    {
      "cell_type": "markdown",
      "source": [
        "######**Distribución de Características Numéricas**"
      ],
      "metadata": {
        "id": "mU5Q3OJhTHgJ"
      }
    },
    {
      "cell_type": "code",
      "source": [
        "# Histograma para cada característica numérica\n",
        "df.hist(figsize=(10, 8), bins=30, edgecolor='black')\n",
        "plt.suptitle('Distribución de Características Numéricas', y=1.02)\n",
        "plt.tight_layout()\n",
        "plt.show()\n",
        "print(\"-\" * 60)"
      ],
      "metadata": {
        "id": "Hb1ZspuISnJs"
      },
      "execution_count": null,
      "outputs": []
    },
    {
      "cell_type": "markdown",
      "source": [
        "#####**Análisis de Correlación**"
      ],
      "metadata": {
        "id": "WeVJSwDTTPcK"
      }
    },
    {
      "cell_type": "code",
      "source": [
        "# Matriz de correlación entre las características numéricas\n",
        "\n",
        "plt.figure(figsize=(8, 6))\n",
        "sns.heatmap(df.corr(numeric_only=True), annot=True, cmap='Blues', fmt=\".2f\")\n",
        "plt.title('Matriz de Correlación de Características')\n",
        "plt.show()\n",
        "print(\"-\" * 60)"
      ],
      "metadata": {
        "id": "tcq1JU6NSpc-"
      },
      "execution_count": null,
      "outputs": []
    },
    {
      "cell_type": "markdown",
      "source": [
        "#####**Box Plots para ver la relación entre características y 'Default'**"
      ],
      "metadata": {
        "id": "Eh1qbqayTWvS"
      }
    },
    {
      "cell_type": "code",
      "source": [
        "# Seleccionando algunas características para visualizar con box plots\n",
        "\n",
        "features_to_plot = ['Ingreso_Anual', 'Puntaje_Crediticio', 'Monto_Prestamo_Solicitado', 'Deuda_Existente']\n",
        "\n",
        "for feature in features_to_plot:\n",
        "    plt.figure(figsize=(8, 5))\n",
        "    sns.boxplot(x='Default', y=feature, data=df, palette='Blues')\n",
        "    plt.title(f'{feature} vs Default')\n",
        "    plt.xlabel('Default (0: No, 1: Sí)')\n",
        "    plt.ylabel(feature)\n",
        "    plt.xticks([0, 1], ['No Default', 'Default'])\n",
        "    plt.show()\n",
        "    print(\"-\" * 60)"
      ],
      "metadata": {
        "id": "IBnvW7m6Sres"
      },
      "execution_count": null,
      "outputs": []
    },
    {
      "cell_type": "markdown",
      "source": [
        "####**Preparación de los Datos**"
      ],
      "metadata": {
        "id": "nW41QIZsPKDY"
      }
    },
    {
      "cell_type": "code",
      "source": [
        "# Definiendo las características (X) y la variable objetivo (y)\n",
        "X = df[['Ingreso_Anual', 'Puntaje_Crediticio', 'Monto_Prestamo_Solicitado', 'Edad', 'Deuda_Existente']]\n",
        "y = df['Default']\n",
        "\n",
        "# Dividiendo los datos en conjuntos de entrenamiento y prueba\n",
        "X_train, X_test, y_train, y_test = train_test_split(X, y, test_size=0.3, random_state=42, stratify=y)\n",
        "#stratify=y asegura que la proporción de clases (Default/No Default) sea la misma en ambos conjuntos.\n",
        "\n",
        "print(f\"Tamaño del conjunto de entrenamiento X_train: {X_train.shape}\")\n",
        "print(f\"Tamaño del conjunto de prueba X_test: {X_test.shape}\")\n",
        "print(\"-\" * 60)"
      ],
      "metadata": {
        "id": "ZihOmX6-L_pB"
      },
      "execution_count": null,
      "outputs": []
    },
    {
      "cell_type": "markdown",
      "source": [
        "####**Estandarización de las Características**"
      ],
      "metadata": {
        "id": "xXaaOxxHPfwU"
      }
    },
    {
      "cell_type": "code",
      "source": [
        "# KNN es un algoritmo basado en distancias. Si las características tienen escalas muy diferentes,\n",
        "# las características con rangos más grandes dominarán el cálculo de la distancia.\n",
        "# La estandarización (media=0, desviación estándar=1) soluciona esto.\n",
        "\n",
        "scaler = StandardScaler()\n",
        "X_train_scaled = scaler.fit_transform(X_train) # Aprende la escala de entrenamiento y la aplica\n",
        "X_test_scaled = scaler.transform(X_test)       # Aplica la misma escala al conjunto de prueba\n",
        "\n",
        "# Convirtiendo de nuevo a DataFrame para mantener los nombres de las columnas (opcional, pero útil)\n",
        "X_train_scaled_df = pd.DataFrame(X_train_scaled, columns=X.columns, index=X_train.index)\n",
        "X_test_scaled_df = pd.DataFrame(X_test_scaled, columns=X.columns, index=X_test.index)\n",
        "\n",
        "print(\"Datos de entrenamiento escalados (primeras 5 filas):\")\n",
        "print(X_train_scaled_df.head())\n",
        "print(\"-\" * 60)"
      ],
      "metadata": {
        "id": "-9oZMndrMC64"
      },
      "execution_count": null,
      "outputs": []
    },
    {
      "cell_type": "markdown",
      "source": [
        "####**Construyendo y Entrenado el Modelo KNN**"
      ],
      "metadata": {
        "id": "TSX96awaPvRk"
      }
    },
    {
      "cell_type": "code",
      "source": [
        "# Se elige el valor de K.\n",
        "#Una regla general es la raíz cuadrada del número de muestras de entrenamiento, o probar varios valores con validación cruzada.\n",
        "#Aquí se usará un valor fijo.\n",
        "\n",
        "k = 5 # Número de vecinos a considerar\n",
        "\n",
        "knn_model = KNeighborsClassifier(n_neighbors=k)\n",
        "knn_model.fit(X_train_scaled, y_train) # Entrenando el modelo con los datos escalados\n",
        "\n",
        "print(f\"Modelo KNN entrenado con K = {k} vecinos.\")\n",
        "print(\"-\" * 60)"
      ],
      "metadata": {
        "id": "N9D2FgpHMGD9"
      },
      "execution_count": null,
      "outputs": []
    },
    {
      "cell_type": "markdown",
      "source": [
        "####**Realizando Predicciones**"
      ],
      "metadata": {
        "id": "DD_EwfuYQIcI"
      }
    },
    {
      "cell_type": "code",
      "source": [
        "y_pred = knn_model.predict(X_test_scaled)\n",
        "y_pred_proba = knn_model.predict_proba(X_test_scaled) # Cálculo de probabilidad de pertenecer a cada clase\n",
        "\n",
        "print(\"Predicciones para el conjunto de prueba (primeros 10):\")\n",
        "print(y_pred[:10])\n",
        "print(\"\\nProbabilidades de predicción (primeros 10):\")\n",
        "print(y_pred_proba[:10]) # La primera columna es prob de 0 (No Default), la segunda de 1 (Default)\n",
        "print(\"-\" * 60)"
      ],
      "metadata": {
        "id": "h3SeUuFlMMtR"
      },
      "execution_count": null,
      "outputs": []
    },
    {
      "cell_type": "markdown",
      "source": [
        "####**Evaluación del Modelo a través de un reporte de clasificación**"
      ],
      "metadata": {
        "id": "gxlOHIgaQZZ6"
      }
    },
    {
      "cell_type": "code",
      "source": [
        "print(\"Reporte de Clasificación:\")\n",
        "print(classification_report(y_test, y_pred, target_names=['No Default', 'Default']))"
      ],
      "metadata": {
        "id": "By0Av3QiMQb6"
      },
      "execution_count": null,
      "outputs": []
    },
    {
      "cell_type": "markdown",
      "source": [
        "**support:**\n",
        "\n",
        "Hay 137 casos reales de No Default en tu conjunto de prueba.\n",
        "Hay 163 casos reales de Default en tu conjunto de prueba.\n",
        "Esto indica un ligero desequilibrio en las clases, con un poco más de casos de 'Default'.\n",
        "\n",
        "**accuracy (0.50 o 0.4967):**\n",
        "\n",
        "En general, tu modelo predijo correctamente el 50% de las veces. Esto es muy bajo, apenas mejor que adivinar al azar en un problema binario (donde 50% sería el rendimiento esperado si las clases estuvieran perfectamente balanceadas). Indica que el modelo tiene dificultades para clasificar correctamente en general.\n",
        "\n",
        "**Clase No Default:**\n",
        "\n",
        "precision = 0.45: Cuando tu modelo predijo que un solicitante \"No va a entrar en Default\", solo fue correcto el 45% de las veces. Esto significa que hay bastantes Falsos Positivos (clientes que el modelo predijo como \"No Default\" pero que en realidad sí entraron en \"Default\").\n",
        "recall = 0.42: De todos los clientes que realmente \"No Default\", tu modelo solo identificó correctamente al 42%. Esto significa que hay bastantes Falsos Negativos (clientes que realmente \"No Default\" pero que el modelo predijo erróneamente como \"Default\").\n",
        "f1-score = 0.43: Es una puntuación baja, lo que confirma que el modelo no tiene un buen rendimiento en la identificación de esta clase.\n",
        "\n",
        "**Clase Default:**\n",
        "\n",
        "precision = 0.53: Cuando tu modelo predijo que un solicitante \"va a entrar en Default\", fue correcto el 53% de las veces. Es mejor que para \"No Default\", pero sigue siendo bastante bajo. Hay una cantidad considerable de Falsos Positivos aquí también (clientes que el modelo predijo como \"Default\" pero que en realidad \"No Default\").\n",
        "recall = 0.56: De todos los clientes que realmente \"Default\", tu modelo identificó correctamente al 56%. Es la métrica más alta del reporte, pero sigue siendo solo un poco mejor que el azar. Indica que el modelo detecta un poco más de la mitad de los casos reales de impago.\n",
        "f1-score = 0.55: Una puntuación modesta, indicando que el rendimiento para la clase 'Default' es un poco mejor que para 'No Default', pero aún débil.\n",
        "macro avg y weighted avg:\n",
        "\n",
        "Los promedios macro y ponderado son muy similares (alrededor de 0.49-0.50) porque el desequilibrio entre las clases es leve (137 vs 163). Esto significa que el rendimiento promedio del modelo es pobre, independientemente de cómo se ponderen las clases."
      ],
      "metadata": {
        "id": "VBXji_AqQzof"
      }
    },
    {
      "cell_type": "markdown",
      "source": [
        "####**Generando Matriz de confusión**"
      ],
      "metadata": {
        "id": "wVTAfvbqReyR"
      }
    },
    {
      "cell_type": "code",
      "source": [
        "accuracy = accuracy_score(y_test, y_pred)\n",
        "print(f\"Precisión del modelo (Accuracy): {accuracy:.4f}\")\n",
        "\n",
        "conf_matrix = confusion_matrix(y_test, y_pred)\n",
        "print(\"\\nMatriz de Confusión:\")\n",
        "print(conf_matrix)\n",
        "\n",
        "# Visualizando matriz de confusión\n",
        "plt.figure(figsize=(6, 5))\n",
        "sns.heatmap(conf_matrix, annot=True, fmt='d', cmap='Blues', cbar=False,\n",
        "            xticklabels=['Pred. No Default', 'Pred. Default'],\n",
        "            yticklabels=['Real No Default', 'Real Default'])\n",
        "plt.title('Matriz de Confusión KNN')\n",
        "plt.ylabel('Valores Reales')\n",
        "plt.xlabel('Valores Predichos')\n",
        "plt.show()\n",
        "\n",
        "print(\"-\" * 60)"
      ],
      "metadata": {
        "id": "BNMboHuxRGdw"
      },
      "execution_count": null,
      "outputs": []
    },
    {
      "cell_type": "markdown",
      "source": [
        "####**Prediciendo Default para un Nuevo Solicitante (Ejemplo)**"
      ],
      "metadata": {
        "id": "EskMYyXmRme2"
      }
    },
    {
      "cell_type": "markdown",
      "source": [
        "  **Dando entrada a un nuevo solicitante con las siguientes características:**"
      ],
      "metadata": {
        "id": "3Xu3H09LVxyO"
      }
    },
    {
      "cell_type": "code",
      "source": [
        "# Dando entrada a un nuevo solicitante con las siguientes características:\n",
        "nuevo_solicitante_data = {\n",
        "    'Ingreso_Anual': [60000],\n",
        "    'Puntaje_Crediticio': [720],\n",
        "    'Monto_Prestamo_Solicitado': [10000],\n",
        "    'Edad': [35],\n",
        "    'Deuda_Existente': [2000]\n",
        "}\n",
        "nuevo_solicitante_df = pd.DataFrame(nuevo_solicitante_data)"
      ],
      "metadata": {
        "id": "Xg_QXkciMTz6"
      },
      "execution_count": null,
      "outputs": []
    },
    {
      "cell_type": "markdown",
      "source": [
        "#####**Estandarizando al nuevo solicitante usando el mismo scaler entrenado**"
      ],
      "metadata": {
        "id": "SA8cfN7_R4Nw"
      }
    },
    {
      "cell_type": "code",
      "source": [
        "nuevo_solicitante_scaled = scaler.transform(nuevo_solicitante_df)\n",
        "\n",
        "# Realizar la predicción\n",
        "prediccion_nuevo = knn_model.predict(nuevo_solicitante_scaled)\n",
        "prob_prediccion_nuevo = knn_model.predict_proba(nuevo_solicitante_scaled)\n",
        "\n",
        "print(f\"Características del nuevo solicitante:\\n{nuevo_solicitante_df}\")\n",
        "if prediccion_nuevo[0] == 0:\n",
        "    print(f\"\\nPredicción para el nuevo solicitante: NO HAY IMPAGO (Probabilidad: {prob_prediccion_nuevo[0][0]:.2f})\")\n",
        "else:\n",
        "    print(f\"\\nPredicción para el nuevo solicitante: PROBABLE IMPAGO (Probabilidad: {prob_prediccion_nuevo[0][1]:.2f})\")\n",
        "\n",
        "print(f\"Probabilidades completas: {prob_prediccion_nuevo[0]}\")"
      ],
      "metadata": {
        "id": "uu0Yq9GwR230"
      },
      "execution_count": null,
      "outputs": []
    }
  ]
}