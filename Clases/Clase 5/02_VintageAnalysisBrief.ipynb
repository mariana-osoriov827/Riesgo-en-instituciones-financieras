{
  "nbformat": 4,
  "nbformat_minor": 0,
  "metadata": {
    "colab": {
      "provenance": []
    },
    "kernelspec": {
      "name": "python3",
      "display_name": "Python 3"
    },
    "language_info": {
      "name": "python"
    }
  },
  "cells": [
    {
      "cell_type": "code",
      "source": [
        "!pip install openpyxl"
      ],
      "metadata": {
        "id": "UYJLIeillIBf"
      },
      "execution_count": null,
      "outputs": []
    },
    {
      "cell_type": "code",
      "source": [
        "import pandas as pd\n",
        "import numpy as np\n",
        "import seaborn as sns\n",
        "import matplotlib.pyplot as plt"
      ],
      "metadata": {
        "id": "TgoXZTyylIr8"
      },
      "execution_count": null,
      "outputs": []
    },
    {
      "cell_type": "code",
      "source": [
        "def get_balanceByDays(row,days):\n",
        "    if row['DiasMora'] > days:\n",
        "        return row['SaldoColocaciones']\n",
        "    else:\n",
        "        return 0"
      ],
      "metadata": {
        "id": "1zRxMzC3lMwI"
      },
      "execution_count": null,
      "outputs": []
    },
    {
      "cell_type": "code",
      "source": [
        "#Cargado Drive\n",
        "\n",
        "from google.colab import drive\n",
        "drive.mount('/content/drive')"
      ],
      "metadata": {
        "id": "Ag0PldBRlUSI"
      },
      "execution_count": null,
      "outputs": []
    },
    {
      "cell_type": "code",
      "source": [
        "df = pd.read_excel('/content/drive/MyDrive/Colab Notebooks/02. Riesgo Instituciones/01. Riesgo de crédito/data_blog.xlsx')\n",
        "df['Mayor8Dias'] = df.apply(get_balanceByDays,axis=1,args=[8])\n",
        "df['Mayor30Dias'] = df.apply(get_balanceByDays,axis=1,args=[30])"
      ],
      "metadata": {
        "id": "05HhiPMzlNWq"
      },
      "execution_count": null,
      "outputs": []
    },
    {
      "cell_type": "code",
      "source": [
        "df.head()"
      ],
      "metadata": {
        "id": "PlAOOU5KMylw"
      },
      "execution_count": null,
      "outputs": []
    },
    {
      "cell_type": "code",
      "source": [
        "def get_date_int(df, column) :\n",
        "    year = df[column].dt.year\n",
        "    month = df[column].dt.month\n",
        "    day = df[column].dt.day\n",
        "    return year, month, day"
      ],
      "metadata": {
        "id": "n-006wbZlPg8"
      },
      "execution_count": null,
      "outputs": []
    },
    {
      "cell_type": "code",
      "source": [
        "anio_cierre, mes_cierre, dia_cierre = get_date_int(df, 'FechaCierre')\n",
        "anio_cosecha, mes_cosecha, dia_cosecha = get_date_int(df,'FechaDesembolso')\n",
        "years_diff = anio_cierre - anio_cosecha\n",
        "months_diff = mes_cierre - mes_cosecha\n",
        "df['AlturaVida'] = years_diff * 12 + months_diff"
      ],
      "metadata": {
        "id": "DtqawmC0lXw0"
      },
      "execution_count": null,
      "outputs": []
    },
    {
      "cell_type": "code",
      "source": [
        "def ind_mora(row):\n",
        "    return row['Mayor30Dias']/row['SaldoColocaciones']"
      ],
      "metadata": {
        "id": "yfVu50EHlaV6"
      },
      "execution_count": null,
      "outputs": []
    },
    {
      "cell_type": "code",
      "source": [
        "situacion = pd.pivot_table(df[(df['FechaCierre']=='2022-07-31') & (df['FechaDesembolso']>='2021-07-01')],\n",
        "                index=pd.Grouper(key='FechaDesembolso',freq='1ME'),\n",
        "                values=[\"SaldoColocaciones\",\"Mayor30Dias\"],\n",
        "                aggfunc='sum'\n",
        "            )\n",
        "situacion.reset_index()\n",
        "situacion[\"indice\"] = situacion.apply(ind_mora,axis=1)"
      ],
      "metadata": {
        "id": "6ly1Qe5MlcAb"
      },
      "execution_count": null,
      "outputs": []
    },
    {
      "cell_type": "code",
      "source": [
        "cohort_data = df[df['FechaDesembolso']>='2021-07-01'].groupby(\n",
        "                [pd.Grouper(key='FechaDesembolso',freq='1ME'),'AlturaVida']\n",
        "              )['Mayor30Dias'].apply(np.sum)\n",
        "cohort_data = cohort_data.reset_index()\n",
        "\n",
        "cohort_mora = cohort_data.pivot_table(\n",
        "                index = 'FechaDesembolso',\n",
        "                columns = 'AlturaVida',\n",
        "                values = 'Mayor30Dias'\n",
        "            )"
      ],
      "metadata": {
        "id": "8A1iVSHtliNC"
      },
      "execution_count": null,
      "outputs": []
    },
    {
      "cell_type": "code",
      "source": [
        "cohort_data_des = df[df['FechaDesembolso']>='2021-07-01'].groupby(\n",
        "                    [pd.Grouper(key='FechaDesembolso',freq='1ME'),'AlturaVida']\n",
        "                  )['MontoDesembolso'].apply(np.sum)\n",
        "\n",
        "cohort_data_des = cohort_data_des.reset_index()\n",
        "\n",
        "cohort_counts_des = cohort_data_des.pivot_table(\n",
        "                     index = pd.Grouper(key='FechaDesembolso',freq='1ME'),\n",
        "                     columns = 'AlturaVida',\n",
        "                     values = 'MontoDesembolso'\n",
        "                    )"
      ],
      "metadata": {
        "id": "zr2eFVRzlkhe"
      },
      "execution_count": null,
      "outputs": []
    },
    {
      "cell_type": "code",
      "source": [
        "indVintage = cohort_mora.divide(cohort_counts_des.iloc[:,0], axis = 0)\n",
        "\n",
        "indVintage = (indVintage * 100).round(4)\n",
        "\n",
        "indVintage.index = indVintage.index.strftime('%Y-%m')"
      ],
      "metadata": {
        "id": "7R1GfOkrlmPG"
      },
      "execution_count": null,
      "outputs": []
    },
    {
      "cell_type": "code",
      "source": [
        "plt.figure(figsize = (15,8))\n",
        "ax = sns.heatmap(indVintage, annot = True, cmap=\"OrRd\", fmt='.2f',linewidths=.5,cbar=False)\n",
        "ax.xaxis.tick_top()\n",
        "ax.xaxis.label_position = 'top'\n",
        "ax.set(title='Cosechas de crédito SK',ylabel='Fecha de cosecha')"
      ],
      "metadata": {
        "id": "_wkfaqZPln3Q"
      },
      "execution_count": null,
      "outputs": []
    },
    {
      "cell_type": "code",
      "source": [
        "indVintage.T[['2021-07','2021-08','2021-09','2021-10','2021-11']].plot(figsize=(12,6))\n",
        "plt.title('Ind. Cosecha')\n",
        "plt.xticks(np.arange(1, 12.1, 1))\n",
        "plt.xlim(1, 12)\n",
        "plt.ylabel('% de Ind Cosecha')"
      ],
      "metadata": {
        "id": "2i2VCfuZlx-J"
      },
      "execution_count": null,
      "outputs": []
    }
  ]
}