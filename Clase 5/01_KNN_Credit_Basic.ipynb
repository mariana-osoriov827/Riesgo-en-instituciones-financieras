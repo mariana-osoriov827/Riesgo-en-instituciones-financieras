{
  "nbformat": 4,
  "nbformat_minor": 0,
  "metadata": {
    "colab": {
      "provenance": []
    },
    "kernelspec": {
      "name": "python3",
      "display_name": "Python 3"
    },
    "language_info": {
      "name": "python"
    }
  },
  "cells": [
    {
      "cell_type": "markdown",
      "source": [
        "####**Descargando Librerías**"
      ],
      "metadata": {
        "id": "G1SE76aSMYaB"
      }
    },
    {
      "cell_type": "code",
      "execution_count": null,
      "metadata": {
        "id": "WrG62W0vLv4L"
      },
      "outputs": [],
      "source": [
        "import pandas as pd\n",
        "import numpy as np\n",
        "from sklearn.model_selection import train_test_split\n",
        "from sklearn.preprocessing import StandardScaler\n",
        "from sklearn.neighbors import KNeighborsClassifier\n",
        "from sklearn.metrics import classification_report, accuracy_score, confusion_matrix\n",
        "import matplotlib.pyplot as plt\n",
        "import seaborn as sns"
      ]
    },
    {
      "cell_type": "markdown",
      "source": [
        "####**Generando de Datos Sintéticos de Ejemplo y ajustándolos**"
      ],
      "metadata": {
        "id": "c9eKMJBvMkkB"
      }
    },
    {
      "cell_type": "markdown",
      "source": [
        "Se creará un dataset que simula datos de solicitantes de préstamos. En un escenario real, cargarías tus datos desde un CSV, base de datos, etc."
      ],
      "metadata": {
        "id": "jrDm4XunMrQv"
      }
    },
    {
      "cell_type": "code",
      "source": [
        "np.random.seed(42)\n",
        "num_applicants = 1000\n",
        "\n",
        "data = {\n",
        "    'Ingreso_Anual': np.random.normal(loc=50000, scale=15000, size=num_applicants),\n",
        "    'Puntaje_Crediticio': np.random.normal(loc=650, scale=80, size=num_applicants),\n",
        "    'Monto_Prestamo_Solicitado': np.random.normal(loc=15000, scale=5000, size=num_applicants),\n",
        "    'Edad': np.random.randint(22, 65, size=num_applicants),\n",
        "    'Deuda_Existente': np.random.normal(loc=5000, scale=3000, size=num_applicants),\n",
        "    'Default': np.random.randint(0, 2, size=num_applicants) # 0 = No Default, 1 = Default\n",
        "}\n",
        "df = pd.DataFrame(data)"
      ],
      "metadata": {
        "id": "JP8F63TUL1o0"
      },
      "execution_count": null,
      "outputs": []
    },
    {
      "cell_type": "code",
      "source": [
        "# Introduciendo algunas correlaciones para hacer los datos más realistas:\n",
        "# Personas con menor ingreso/puntaje crediticio/mayor deuda/mayor monto_prestamo tienen más probabilidad de default\n",
        "df['Default'] = df.apply(lambda row: 1 if (row['Ingreso_Anual'] < 40000 and row['Puntaje_Crediticio'] < 600) or \\\n",
        "                                          (row['Deuda_Existente'] > 7000 and row['Monto_Prestamo_Solicitado'] > 20000) else row['Default'], axis=1)"
      ],
      "metadata": {
        "id": "T4YaUSwPM8uN"
      },
      "execution_count": null,
      "outputs": []
    },
    {
      "cell_type": "markdown",
      "source": [
        "La función lambda está ajustando la columna 'Default' del DataFrame así:\n",
        "\n",
        "Para cada solicitante (fila):\n",
        "\n",
        "* Si el solicitante tiene un ingreso anual bajo (menos de 40,000) y un puntaje\n",
        "crediticio bajo (menos de 600), se le asigna un 1 (Impago).\n",
        "* O si el solicitante tiene una deuda existente alta (más de 7,000) y está solicitando un monto de préstamo alto (más de 20,000), también se le asigna un 1 (Impago).\n",
        "* Si ninguna de estas condiciones se cumple, el estado de 'Default' de ese solicitante se mantiene como estaba inicialmente en el DataFrame."
      ],
      "metadata": {
        "id": "OESp_ezWOVZt"
      }
    },
    {
      "cell_type": "code",
      "source": [
        "# Asegurando que 'Default' sea binario (0 o 1)\n",
        "\n",
        "df['Default'] = df['Default'].apply(lambda x: 1 if x > 0.5 else 0)"
      ],
      "metadata": {
        "id": "KgUYpuGwNCst"
      },
      "execution_count": null,
      "outputs": []
    },
    {
      "cell_type": "markdown",
      "source": [
        "####**Visualizando tabla de datos**"
      ],
      "metadata": {
        "id": "U7PBJBX7PEcO"
      }
    },
    {
      "cell_type": "code",
      "source": [
        "df.head()"
      ],
      "metadata": {
        "id": "6gHCq6MVO9sJ"
      },
      "execution_count": null,
      "outputs": []
    },
    {
      "cell_type": "code",
      "source": [
        "print(\"\\nConteo de defaults (0=No Default, 1=Default):\")\n",
        "df['Default'].value_counts(ascending=True)"
      ],
      "metadata": {
        "id": "RSEIoTiXUv4E"
      },
      "execution_count": null,
      "outputs": []
    },
    {
      "cell_type": "markdown",
      "source": [
        "#### **Análisis Descriptivo de Datos y Visualización**"
      ],
      "metadata": {
        "id": "S7ZeM7A-SZj4"
      }
    },
    {
      "cell_type": "markdown",
      "source": [
        "#####**Resumen Estadístico**"
      ],
      "metadata": {
        "id": "y8NkHxWSS4cn"
      }
    },
    {
      "cell_type": "code",
      "metadata": {
        "id": "af25ca9f"
      },
      "source": [
        "df.describe()"
      ],
      "execution_count": null,
      "outputs": []
    },
    {
      "cell_type": "markdown",
      "source": [
        "#####**Distribución de la Variable Objetivo ('Default')**"
      ],
      "metadata": {
        "id": "szfp2VnBTAwz"
      }
    },
    {
      "cell_type": "code",
      "source": [
        "plt.figure(figsize=(6, 4))\n",
        "sns.countplot(x='Default', data=df, palette='coolwarm')\n",
        "plt.title('Distribución de la Variable Objetivo (Default)')\n",
        "plt.xlabel('Default (0: No, 1: Sí)')\n",
        "plt.ylabel('Frecuencia')\n",
        "plt.xticks([0, 1], ['No Default', 'Default'])\n",
        "plt.show()\n",
        "print(\"-\" * 60)"
      ],
      "metadata": {
        "id": "S-iZXfUrSgNy"
      },
      "execution_count": null,
      "outputs": []
    },
    {
      "cell_type": "markdown",
      "source": [
        "######**Distribución de Características Numéricas**"
      ],
      "metadata": {
        "id": "mU5Q3OJhTHgJ"
      }
    },
    {
      "cell_type": "code",
      "source": [
        "# Histograma para cada característica numérica\n",
        "df.hist(figsize=(10, 8), bins=30, edgecolor='black')\n",
        "plt.suptitle('Distribución de Características Numéricas', y=1.02)\n",
        "plt.tight_layout()\n",
        "plt.show()\n",
        "print(\"-\" * 60)"
      ],
      "metadata": {
        "id": "Hb1ZspuISnJs"
      },
      "execution_count": null,
      "outputs": []
    },
    {
      "cell_type": "markdown",
      "source": [
        "#####**Análisis de Correlación**"
      ],
      "metadata": {
        "id": "WeVJSwDTTPcK"
      }
    },
    {
      "cell_type": "code",
      "source": [
        "# Matriz de correlación entre las características numéricas\n",
        "\n",
        "plt.figure(figsize=(8, 6))\n",
        "sns.heatmap(df.corr(numeric_only=True), annot=True, cmap='Blues', fmt=\".2f\")\n",
        "plt.title('Matriz de Correlación de Características')\n",
        "plt.show()\n",
        "print(\"-\" * 60)"
      ],
      "metadata": {
        "id": "tcq1JU6NSpc-"
      },
      "execution_count": null,
      "outputs": []
    },
    {
      "cell_type": "markdown",
      "source": [
        "#####**Box Plots para ver la relación entre características y 'Default'**"
      ],
      "metadata": {
        "id": "Eh1qbqayTWvS"
      }
    },
    {
      "cell_type": "code",
      "source": [
        "# Seleccionando algunas características para visualizar con box plots\n",
        "\n",
        "features_to_plot = ['Ingreso_Anual', 'Puntaje_Crediticio', 'Monto_Prestamo_Solicitado', 'Deuda_Existente']\n",
        "\n",
        "for feature in features_to_plot:\n",
        "    plt.figure(figsize=(8, 5))\n",
        "    sns.boxplot(x='Default', y=feature, data=df, palette='Blues')\n",
        "    plt.title(f'{feature} vs Default')\n",
        "    plt.xlabel('Default (0: No, 1: Sí)')\n",
        "    plt.ylabel(feature)\n",
        "    plt.xticks([0, 1], ['No Default', 'Default'])\n",
        "    plt.show()\n",
        "    print(\"-\" * 60)"
      ],
      "metadata": {
        "id": "IBnvW7m6Sres"
      },
      "execution_count": null,
      "outputs": []
    },
    {
      "cell_type": "markdown",
      "source": [
        "####**Preparación de los Datos**"
      ],
      "metadata": {
        "id": "nW41QIZsPKDY"
      }
    },
    {
      "cell_type": "code",
      "source": [
        "# Definiendo las características (X) y la variable objetivo (y)\n",
        "X = df[['Ingreso_Anual', 'Puntaje_Crediticio', 'Monto_Prestamo_Solicitado', 'Edad', 'Deuda_Existente']]\n",
        "y = df['Default']\n",
        "\n",
        "# Dividiendo los datos en conjuntos de entrenamiento y prueba\n",
        "X_train, X_test, y_train, y_test = train_test_split(X, y, test_size=0.3, random_state=42, stratify=y)\n",
        "#stratify=y asegura que la proporción de clases (Default/No Default) sea la misma en ambos conjuntos.\n",
        "\n",
        "print(f\"Tamaño del conjunto de entrenamiento X_train: {X_train.shape}\")\n",
        "print(f\"Tamaño del conjunto de prueba X_test: {X_test.shape}\")\n",
        "print(\"-\" * 60)"
      ],
      "metadata": {
        "id": "ZihOmX6-L_pB"
      },
      "execution_count": null,
      "outputs": []
    },
    {
      "cell_type": "markdown",
      "source": [
        "####**Estandarización de las Características**"
      ],
      "metadata": {
        "id": "xXaaOxxHPfwU"
      }
    },
    {
      "cell_type": "code",
      "source": [
        "# KNN es un algoritmo basado en distancias. Si las características tienen escalas muy diferentes,\n",
        "# las características con rangos más grandes dominarán el cálculo de la distancia.\n",
        "# La estandarización (media=0, desviación estándar=1) soluciona esto.\n",
        "\n",
        "scaler = StandardScaler()\n",
        "X_train_scaled = scaler.fit_transform(X_train) # Aprende la escala de entrenamiento y la aplica\n",
        "X_test_scaled = scaler.transform(X_test)       # Aplica la misma escala al conjunto de prueba\n",
        "\n",
        "# Convirtiendo de nuevo a DataFrame para mantener los nombres de las columnas (opcional, pero útil)\n",
        "X_train_scaled_df = pd.DataFrame(X_train_scaled, columns=X.columns, index=X_train.index)\n",
        "X_test_scaled_df = pd.DataFrame(X_test_scaled, columns=X.columns, index=X_test.index)\n",
        "\n",
        "print(\"Datos de entrenamiento escalados (primeras 5 filas):\")\n",
        "print(X_train_scaled_df.head())\n",
        "print(\"-\" * 60)"
      ],
      "metadata": {
        "id": "-9oZMndrMC64"
      },
      "execution_count": null,
      "outputs": []
    },
    {
      "cell_type": "markdown",
      "source": [
        "####**Construyendo y Entrenado el Modelo KNN**"
      ],
      "metadata": {
        "id": "TSX96awaPvRk"
      }
    },
    {
      "cell_type": "code",
      "source": [
        "# Se elige el valor de K.\n",
        "#Una regla general es la raíz cuadrada del número de muestras de entrenamiento, o probar varios valores con validación cruzada.\n",
        "#Aquí se usará un valor fijo.\n",
        "\n",
        "k = 5 # Número de vecinos a considerar\n",
        "\n",
        "knn_model = KNeighborsClassifier(n_neighbors=k)\n",
        "knn_model.fit(X_train_scaled, y_train) # Entrenando el modelo con los datos escalados\n",
        "\n",
        "print(f\"Modelo KNN entrenado con K = {k} vecinos.\")\n",
        "print(\"-\" * 60)"
      ],
      "metadata": {
        "id": "N9D2FgpHMGD9"
      },
      "execution_count": null,
      "outputs": []
    },
    {
      "cell_type": "markdown",
      "source": [
        "####**Realizando Predicciones**"
      ],
      "metadata": {
        "id": "DD_EwfuYQIcI"
      }
    },
    {
      "cell_type": "code",
      "source": [
        "y_pred = knn_model.predict(X_test_scaled)\n",
        "y_pred_proba = knn_model.predict_proba(X_test_scaled) # Cálculo de probabilidad de pertenecer a cada clase\n",
        "\n",
        "print(\"Predicciones para el conjunto de prueba (primeros 10):\")\n",
        "print(y_pred[:10])\n",
        "print(\"\\nProbabilidades de predicción (primeros 10):\")\n",
        "print(y_pred_proba[:10]) # La primera columna es prob de 0 (No Default), la segunda de 1 (Default)\n",
        "print(\"-\" * 60)"
      ],
      "metadata": {
        "id": "h3SeUuFlMMtR"
      },
      "execution_count": null,
      "outputs": []
    },
    {
      "cell_type": "markdown",
      "source": [
        "####**Evaluación del Modelo a través de un reporte de clasificación**"
      ],
      "metadata": {
        "id": "gxlOHIgaQZZ6"
      }
    },
    {
      "cell_type": "code",
      "source": [
        "print(\"Reporte de Clasificación:\")\n",
        "print(classification_report(y_test, y_pred, target_names=['No Default', 'Default']))"
      ],
      "metadata": {
        "id": "By0Av3QiMQb6"
      },
      "execution_count": null,
      "outputs": []
    },
    {
      "cell_type": "markdown",
      "source": [
        "**support:**\n",
        "\n",
        "Hay 137 casos reales de No Default en tu conjunto de prueba.\n",
        "Hay 163 casos reales de Default en tu conjunto de prueba.\n",
        "Esto indica un ligero desequilibrio en las clases, con un poco más de casos de 'Default'.\n",
        "\n",
        "**accuracy (0.50 o 0.4967):**\n",
        "\n",
        "En general, tu modelo predijo correctamente el 50% de las veces. Esto es muy bajo, apenas mejor que adivinar al azar en un problema binario (donde 50% sería el rendimiento esperado si las clases estuvieran perfectamente balanceadas). Indica que el modelo tiene dificultades para clasificar correctamente en general.\n",
        "\n",
        "**Clase No Default:**\n",
        "\n",
        "precision = 0.45: Cuando tu modelo predijo que un solicitante \"No va a entrar en Default\", solo fue correcto el 45% de las veces. Esto significa que hay bastantes Falsos Positivos (clientes que el modelo predijo como \"No Default\" pero que en realidad sí entraron en \"Default\").\n",
        "recall = 0.42: De todos los clientes que realmente \"No Default\", tu modelo solo identificó correctamente al 42%. Esto significa que hay bastantes Falsos Negativos (clientes que realmente \"No Default\" pero que el modelo predijo erróneamente como \"Default\").\n",
        "f1-score = 0.43: Es una puntuación baja, lo que confirma que el modelo no tiene un buen rendimiento en la identificación de esta clase.\n",
        "\n",
        "**Clase Default:**\n",
        "\n",
        "precision = 0.53: Cuando tu modelo predijo que un solicitante \"va a entrar en Default\", fue correcto el 53% de las veces. Es mejor que para \"No Default\", pero sigue siendo bastante bajo. Hay una cantidad considerable de Falsos Positivos aquí también (clientes que el modelo predijo como \"Default\" pero que en realidad \"No Default\").\n",
        "recall = 0.56: De todos los clientes que realmente \"Default\", tu modelo identificó correctamente al 56%. Es la métrica más alta del reporte, pero sigue siendo solo un poco mejor que el azar. Indica que el modelo detecta un poco más de la mitad de los casos reales de impago.\n",
        "f1-score = 0.55: Una puntuación modesta, indicando que el rendimiento para la clase 'Default' es un poco mejor que para 'No Default', pero aún débil.\n",
        "macro avg y weighted avg:\n",
        "\n",
        "Los promedios macro y ponderado son muy similares (alrededor de 0.49-0.50) porque el desequilibrio entre las clases es leve (137 vs 163). Esto significa que el rendimiento promedio del modelo es pobre, independientemente de cómo se ponderen las clases."
      ],
      "metadata": {
        "id": "VBXji_AqQzof"
      }
    },
    {
      "cell_type": "markdown",
      "source": [
        "####**Generando Matriz de confusión**"
      ],
      "metadata": {
        "id": "wVTAfvbqReyR"
      }
    },
    {
      "cell_type": "code",
      "source": [
        "accuracy = accuracy_score(y_test, y_pred)\n",
        "print(f\"Precisión del modelo (Accuracy): {accuracy:.4f}\")\n",
        "\n",
        "conf_matrix = confusion_matrix(y_test, y_pred)\n",
        "print(\"\\nMatriz de Confusión:\")\n",
        "print(conf_matrix)\n",
        "\n",
        "# Visualizando matriz de confusión\n",
        "plt.figure(figsize=(6, 5))\n",
        "sns.heatmap(conf_matrix, annot=True, fmt='d', cmap='Blues', cbar=False,\n",
        "            xticklabels=['Pred. No Default', 'Pred. Default'],\n",
        "            yticklabels=['Real No Default', 'Real Default'])\n",
        "plt.title('Matriz de Confusión KNN')\n",
        "plt.ylabel('Valores Reales')\n",
        "plt.xlabel('Valores Predichos')\n",
        "plt.show()\n",
        "\n",
        "print(\"-\" * 60)"
      ],
      "metadata": {
        "id": "BNMboHuxRGdw"
      },
      "execution_count": null,
      "outputs": []
    },
    {
      "cell_type": "markdown",
      "source": [
        "####**Prediciendo Default para un Nuevo Solicitante (Ejemplo)**"
      ],
      "metadata": {
        "id": "EskMYyXmRme2"
      }
    },
    {
      "cell_type": "markdown",
      "source": [
        "  **Dando entrada a un nuevo solicitante con las siguientes características:**"
      ],
      "metadata": {
        "id": "3Xu3H09LVxyO"
      }
    },
    {
      "cell_type": "code",
      "source": [
        "# Dando entrada a un nuevo solicitante con las siguientes características:\n",
        "nuevo_solicitante_data = {\n",
        "    'Ingreso_Anual': [60000],\n",
        "    'Puntaje_Crediticio': [720],\n",
        "    'Monto_Prestamo_Solicitado': [10000],\n",
        "    'Edad': [35],\n",
        "    'Deuda_Existente': [2000]\n",
        "}\n",
        "nuevo_solicitante_df = pd.DataFrame(nuevo_solicitante_data)"
      ],
      "metadata": {
        "id": "Xg_QXkciMTz6"
      },
      "execution_count": null,
      "outputs": []
    },
    {
      "cell_type": "markdown",
      "source": [
        "#####**Estandarizando al nuevo solicitante usando el mismo scaler entrenado**"
      ],
      "metadata": {
        "id": "SA8cfN7_R4Nw"
      }
    },
    {
      "cell_type": "code",
      "source": [
        "nuevo_solicitante_scaled = scaler.transform(nuevo_solicitante_df)\n",
        "\n",
        "# Realizar la predicción\n",
        "prediccion_nuevo = knn_model.predict(nuevo_solicitante_scaled)\n",
        "prob_prediccion_nuevo = knn_model.predict_proba(nuevo_solicitante_scaled)\n",
        "\n",
        "print(f\"Características del nuevo solicitante:\\n{nuevo_solicitante_df}\")\n",
        "if prediccion_nuevo[0] == 0:\n",
        "    print(f\"\\nPredicción para el nuevo solicitante: NO HAY IMPAGO (Probabilidad: {prob_prediccion_nuevo[0][0]:.2f})\")\n",
        "else:\n",
        "    print(f\"\\nPredicción para el nuevo solicitante: PROBABLE IMPAGO (Probabilidad: {prob_prediccion_nuevo[0][1]:.2f})\")\n",
        "\n",
        "print(f\"Probabilidades completas: {prob_prediccion_nuevo[0]}\")"
      ],
      "metadata": {
        "id": "uu0Yq9GwR230"
      },
      "execution_count": null,
      "outputs": []
    }
  ]
}