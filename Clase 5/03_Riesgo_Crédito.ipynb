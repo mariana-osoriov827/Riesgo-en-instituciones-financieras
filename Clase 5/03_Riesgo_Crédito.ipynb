{
  "nbformat": 4,
  "nbformat_minor": 0,
  "metadata": {
    "colab": {
      "provenance": []
    },
    "kernelspec": {
      "name": "python3",
      "display_name": "Python 3"
    },
    "language_info": {
      "name": "python"
    }
  },
  "cells": [
    {
      "cell_type": "code",
      "execution_count": null,
      "metadata": {
        "id": "ldDwcgCFL-VO"
      },
      "outputs": [],
      "source": [
        "#Importando librerías\n",
        "import pandas as pd\n",
        "import numpy as np\n",
        "import matplotlib.pyplot as plt\n",
        "import seaborn as sns\n",
        "from scipy import constants"
      ]
    },
    {
      "cell_type": "code",
      "source": [
        "from google.colab import drive\n",
        "drive.mount('/content/drive')"
      ],
      "metadata": {
        "id": "43j8LZbIabq9"
      },
      "execution_count": null,
      "outputs": []
    },
    {
      "cell_type": "code",
      "source": [
        "df = pd.read_csv('/content/drive/MyDrive/Colab Notebooks/02. Riesgo Instituciones/Riesgo de crédito/Data_score.csv', sep=\";\",thousands='.', decimal=',')\n",
        "df.sample(10)"
      ],
      "metadata": {
        "id": "teUnbNUFMc4N"
      },
      "execution_count": null,
      "outputs": []
    },
    {
      "cell_type": "markdown",
      "source": [
        "**Variables**\n",
        "\n",
        "ID: Identificación del cliente\n",
        "\n",
        "DEST_CRED: Destino en el que se va a usar el crédito\n",
        "\n",
        "SEXO: Género (Hombre o Mujer)\n",
        "\n",
        "CATEGORIA_NEG: Tipo de Negocio\n",
        "\n",
        "EXPERIENCIA_NEGOCIO: Meses de experiencia o antigüedad en el negocio\n",
        "\n",
        "ESTADO_CIVIL: Estado civil del cliente\n",
        "\n",
        "EDAD: Edad del cliente\n",
        "\n",
        "NIVEL_ENDEUDAMIENTO: % de endeudamiento del cliente\n",
        "\n",
        "NUMERO_ENTIDADES: Con cuántas entidades financieras el cliente tiene un crédito.\n",
        "\n",
        "M_MAX: Día máximo en que el cliente se ha demorado en pagar una de sus cuotas, si no hay demora el valor por defecto es 5500.\n",
        "\n",
        "ING_BRUTO: Ingreso Bruto estimado del cliente."
      ],
      "metadata": {
        "id": "2ZeyA0uFbygk"
      }
    },
    {
      "cell_type": "code",
      "source": [
        "df.describe().round(1)"
      ],
      "metadata": {
        "id": "oX_CQfCZdBCU"
      },
      "execution_count": null,
      "outputs": []
    },
    {
      "cell_type": "markdown",
      "source": [
        "**Análisis de datos cuantitativos**"
      ],
      "metadata": {
        "id": "DrRLLTztdc_H"
      }
    },
    {
      "cell_type": "code",
      "source": [
        "fig = plt.figure(figsize=(15,15))\n",
        "ax = fig.gca()\n",
        "df.hist(ax = ax)\n",
        "plt.show()"
      ],
      "metadata": {
        "id": "kHfO0tPQdai5"
      },
      "execution_count": null,
      "outputs": []
    },
    {
      "cell_type": "markdown",
      "source": [
        "**Análisis de datos cualitativos**"
      ],
      "metadata": {
        "id": "_IyJrJY-slQn"
      }
    },
    {
      "cell_type": "code",
      "source": [
        "df.select_dtypes(include = [object]).columns"
      ],
      "metadata": {
        "id": "GyWoLJ51sb4i"
      },
      "execution_count": null,
      "outputs": []
    },
    {
      "cell_type": "code",
      "source": [
        "df.groupby(\"DEST_CRED\").size().sort_values()"
      ],
      "metadata": {
        "id": "o4nNE0jOs5Lu"
      },
      "execution_count": null,
      "outputs": []
    },
    {
      "cell_type": "code",
      "source": [
        "sns.countplot(x=\"DEST_CRED\", data=df)"
      ],
      "metadata": {
        "id": "kV73JGoxtIGu"
      },
      "execution_count": null,
      "outputs": []
    },
    {
      "cell_type": "code",
      "source": [
        "df.groupby(\"SEXO\").size().sort_values()"
      ],
      "metadata": {
        "id": "IZkA59UpAQ0c"
      },
      "execution_count": null,
      "outputs": []
    },
    {
      "cell_type": "code",
      "source": [
        "df.groupby(\"CATEGORIA_NEG\").size().sort_values()"
      ],
      "metadata": {
        "id": "--zhyAejA89d"
      },
      "execution_count": null,
      "outputs": []
    },
    {
      "cell_type": "code",
      "source": [
        "df.groupby(\"ESTADO_CIVIL\").size().sort_values()"
      ],
      "metadata": {
        "id": "gGdeTZERBVBv"
      },
      "execution_count": null,
      "outputs": []
    },
    {
      "cell_type": "code",
      "source": [
        "df.groupby(\"NUMERO_ENTIDADES\").size().sort_values()"
      ],
      "metadata": {
        "id": "ESa5G_IvBa_P"
      },
      "execution_count": null,
      "outputs": []
    },
    {
      "cell_type": "markdown",
      "source": [
        "**Tratamiento de datos nulos**"
      ],
      "metadata": {
        "id": "4NfODRn2C12F"
      }
    },
    {
      "cell_type": "code",
      "source": [
        "from statistics import mode"
      ],
      "metadata": {
        "id": "q4ei4OHwC3s0"
      },
      "execution_count": null,
      "outputs": []
    },
    {
      "cell_type": "code",
      "source": [
        "df.isnull().sum()"
      ],
      "metadata": {
        "id": "4hK9b85HC9jN"
      },
      "execution_count": null,
      "outputs": []
    },
    {
      "cell_type": "code",
      "source": [
        "#Hallando moda de la variable \"DEST_CRED\"\n",
        "moda_DEST_CRED = mode(df['DEST_CRED'])\n",
        "moda_DEST_CRED"
      ],
      "metadata": {
        "id": "It8C84OeDFnV"
      },
      "execution_count": null,
      "outputs": []
    },
    {
      "cell_type": "code",
      "source": [
        "df['DEST_CRED']=df['DEST_CRED'].fillna(moda_DEST_CRED)"
      ],
      "metadata": {
        "id": "8xkmsNxUDZuX"
      },
      "execution_count": null,
      "outputs": []
    },
    {
      "cell_type": "code",
      "source": [
        "#Hallando moda de la variable \"DEST_CRED\"\n",
        "moda_CATEGORIA_NEG = mode(df['CATEGORIA_NEG'])\n",
        "moda_CATEGORIA_NEG"
      ],
      "metadata": {
        "id": "QX0jtdceDka8"
      },
      "execution_count": null,
      "outputs": []
    },
    {
      "cell_type": "code",
      "source": [
        "df['CATEGORIA_NEG']=df['CATEGORIA_NEG'].fillna(moda_CATEGORIA_NEG)"
      ],
      "metadata": {
        "id": "G8PZo-56DtnP"
      },
      "execution_count": null,
      "outputs": []
    },
    {
      "cell_type": "code",
      "source": [
        "df.isnull().sum()"
      ],
      "metadata": {
        "id": "g4p6chUSDxil"
      },
      "execution_count": null,
      "outputs": []
    },
    {
      "cell_type": "markdown",
      "source": [
        "**Transformación de datos**"
      ],
      "metadata": {
        "id": "JMFB1vlvGR0L"
      }
    },
    {
      "cell_type": "code",
      "source": [
        "df.select_dtypes(include=[\"object\"]).columns"
      ],
      "metadata": {
        "id": "9coAlbdPGQQ2"
      },
      "execution_count": null,
      "outputs": []
    },
    {
      "cell_type": "code",
      "source": [
        "df['DEST_CRED'].unique().tolist()"
      ],
      "metadata": {
        "id": "CxCP-PLFGhfX"
      },
      "execution_count": null,
      "outputs": []
    },
    {
      "cell_type": "code",
      "source": [
        "def sust_d(DEST_CRED):\n",
        "  if DEST_CRED == 'Capital de trabajo':\n",
        "    return 0\n",
        "  if DEST_CRED == 'Activo fijo':\n",
        "    return 1\n",
        "  if DEST_CRED == 'Consumo':\n",
        "    return 2\n",
        "  if DEST_CRED == 'Crédito vehículo':\n",
        "    return 3\n",
        "df['DEST_CRED'] = df['DEST_CRED'].apply(lambda x: sust_d(x))"
      ],
      "metadata": {
        "id": "GF8kBhi2GwKZ"
      },
      "execution_count": null,
      "outputs": []
    },
    {
      "cell_type": "code",
      "source": [
        "df['SEXO'].unique().tolist()"
      ],
      "metadata": {
        "id": "xyrzXLV0HnCY"
      },
      "execution_count": null,
      "outputs": []
    },
    {
      "cell_type": "code",
      "source": [
        "def sust_g(SEXO):\n",
        "  if SEXO == 'Mujer':\n",
        "    return 0\n",
        "  if SEXO == 'Hombre':\n",
        "    return 1\n",
        "df['SEXO'] = df['SEXO'].apply(lambda x: sust_g(x))"
      ],
      "metadata": {
        "id": "3mpvPZxIHt4X"
      },
      "execution_count": null,
      "outputs": []
    },
    {
      "cell_type": "code",
      "source": [
        "df['CATEGORIA_NEG'].unique().tolist()"
      ],
      "metadata": {
        "id": "PePZaYX7IDhN"
      },
      "execution_count": null,
      "outputs": []
    },
    {
      "cell_type": "code",
      "source": [
        "def sust_c(CATEGORIA_NEG):\n",
        "  if CATEGORIA_NEG == 'Comercio':\n",
        "    return 0\n",
        "  if CATEGORIA_NEG == 'Producción':\n",
        "    return 1\n",
        "  if CATEGORIA_NEG == 'Servicios':\n",
        "    return 2\n",
        "  if CATEGORIA_NEG == 'Emprendedor':\n",
        "    return 3\n",
        "  if CATEGORIA_NEG == 'Informal':\n",
        "    return 4\n",
        "df['CATEGORIA_NEG'] = df['CATEGORIA_NEG'].apply(lambda x: sust_c(x))"
      ],
      "metadata": {
        "id": "GohCkn71INt6"
      },
      "execution_count": null,
      "outputs": []
    },
    {
      "cell_type": "code",
      "source": [
        "df['ESTADO_CIVIL'].unique().tolist()"
      ],
      "metadata": {
        "id": "eXARsYpeIoaK"
      },
      "execution_count": null,
      "outputs": []
    },
    {
      "cell_type": "code",
      "source": [
        "def sust_e(ESTADO_CIVIL):\n",
        "  if ESTADO_CIVIL == 'Soltero':\n",
        "    return 0\n",
        "  if ESTADO_CIVIL == 'Unión Libre':\n",
        "    return 1\n",
        "  if ESTADO_CIVIL == 'Casado':\n",
        "    return 2\n",
        "  if ESTADO_CIVIL == 'Divorciado':\n",
        "    return 3\n",
        "  if ESTADO_CIVIL == 'Viudo':\n",
        "    return 4\n",
        "df['ESTADO_CIVIL'] = df['ESTADO_CIVIL'].apply(lambda x: sust_e(x))"
      ],
      "metadata": {
        "id": "o9QEa-RaIxVx"
      },
      "execution_count": null,
      "outputs": []
    },
    {
      "cell_type": "code",
      "source": [
        "df['NUMERO_ENTIDADES'].unique().tolist()"
      ],
      "metadata": {
        "id": "DjZBUL4oJFK_"
      },
      "execution_count": null,
      "outputs": []
    },
    {
      "cell_type": "code",
      "source": [
        "def sust_n(NUMERO_ENTIDADES):\n",
        "  if NUMERO_ENTIDADES == 'uno':\n",
        "    return \"1\"\n",
        "  if NUMERO_ENTIDADES == 'dos':\n",
        "    return \"2\"\n",
        "  if NUMERO_ENTIDADES == 'tres':\n",
        "    return \"3\"\n",
        "  if NUMERO_ENTIDADES == 'cuatro':\n",
        "    return \"4\"\n",
        "  if NUMERO_ENTIDADES == 'cinco o +':\n",
        "    return \"5\"\n",
        "df['NUMERO_ENTIDADES'] = df['NUMERO_ENTIDADES'].apply(lambda x: sust_n(x))"
      ],
      "metadata": {
        "id": "jTn-xaqRJJaG"
      },
      "execution_count": null,
      "outputs": []
    },
    {
      "cell_type": "code",
      "source": [
        "df.drop([\"ID\"],axis =1, inplace = True)"
      ],
      "metadata": {
        "id": "LN-KeGsAJt-N"
      },
      "execution_count": null,
      "outputs": []
    },
    {
      "cell_type": "code",
      "source": [
        "df.sample(10)"
      ],
      "metadata": {
        "id": "ay1xpWMwJ416"
      },
      "execution_count": null,
      "outputs": []
    },
    {
      "cell_type": "code",
      "source": [
        "df.info()"
      ],
      "metadata": {
        "id": "E3dKY12hJ_zD"
      },
      "execution_count": null,
      "outputs": []
    },
    {
      "cell_type": "code",
      "source": [
        "df['NUMERO_ENTIDADES']= df['NUMERO_ENTIDADES'].astype('int64')"
      ],
      "metadata": {
        "id": "l889k7LFnOr_"
      },
      "execution_count": null,
      "outputs": []
    },
    {
      "cell_type": "code",
      "source": [
        "df.info()"
      ],
      "metadata": {
        "id": "Rj1Qg5aWncLO"
      },
      "execution_count": null,
      "outputs": []
    },
    {
      "cell_type": "markdown",
      "source": [
        "**Definición del Target**"
      ],
      "metadata": {
        "id": "4KKaiibJKHgd"
      }
    },
    {
      "cell_type": "code",
      "source": [
        "df_target=df.copy()\n",
        "df_target"
      ],
      "metadata": {
        "id": "7C1zfLTJKK1S"
      },
      "execution_count": null,
      "outputs": []
    },
    {
      "cell_type": "code",
      "source": [
        "dias = int(input(\"Máximo de días que la Entidad permite que se atrasen sus clientes \"))\n",
        "dias"
      ],
      "metadata": {
        "id": "6jZlENoFKbHb"
      },
      "execution_count": null,
      "outputs": []
    },
    {
      "cell_type": "code",
      "source": [
        "#Definiendo el umbral de default en días\n",
        "# Default 1\n",
        "# No Default 0\n",
        "df_target['Default'] = np.where(df_target['M_MAX']>dias,'1','0')"
      ],
      "metadata": {
        "id": "uU-uLHf3KshL"
      },
      "execution_count": null,
      "outputs": []
    },
    {
      "cell_type": "code",
      "source": [
        "df_target.sample(5)"
      ],
      "metadata": {
        "id": "5oxqJxuALRjv"
      },
      "execution_count": null,
      "outputs": []
    },
    {
      "cell_type": "code",
      "source": [
        "df_target.groupby('Default').size().sort_values()"
      ],
      "metadata": {
        "id": "xyiYjC3jLr3p"
      },
      "execution_count": null,
      "outputs": []
    },
    {
      "cell_type": "code",
      "source": [
        "sns.countplot(x='Default', data=df_target)"
      ],
      "metadata": {
        "id": "yLHkkl6TMKw8"
      },
      "execution_count": null,
      "outputs": []
    },
    {
      "cell_type": "code",
      "source": [
        "df_target['Default'] = df_target['Default'].astype(int)"
      ],
      "metadata": {
        "id": "6MR8lQZmPPmb"
      },
      "execution_count": null,
      "outputs": []
    },
    {
      "cell_type": "markdown",
      "source": [
        "**Análisis Univariante**"
      ],
      "metadata": {
        "id": "TOeWmuBWPkgJ"
      }
    },
    {
      "cell_type": "markdown",
      "source": [
        "**Escalado de datos**"
      ],
      "metadata": {
        "id": "IjPi_GqfRPVE"
      }
    },
    {
      "cell_type": "code",
      "source": [
        "df_escalado = df_target.copy()\n",
        "df_escalado"
      ],
      "metadata": {
        "id": "Fv8SasI9RMXD"
      },
      "execution_count": null,
      "outputs": []
    },
    {
      "cell_type": "code",
      "source": [
        "  #Visualización sin escalar\n",
        "  sns.kdeplot(data=df_escalado)\n",
        "  plt.show()"
      ],
      "metadata": {
        "id": "evhm07WtPrI1"
      },
      "execution_count": null,
      "outputs": []
    },
    {
      "cell_type": "code",
      "source": [
        "#Dividiendo características y target\n",
        "df_escalado.shape"
      ],
      "metadata": {
        "id": "cye00slkRwuh"
      },
      "execution_count": null,
      "outputs": []
    },
    {
      "cell_type": "code",
      "source": [
        "array = df_escalado.values\n",
        "X_clas = array[:,0:10]\n",
        "Y_clas = array[:,10]"
      ],
      "metadata": {
        "id": "UMt8n0GBR3pP"
      },
      "execution_count": null,
      "outputs": []
    },
    {
      "cell_type": "code",
      "source": [
        "from sklearn.preprocessing import MinMaxScaler"
      ],
      "metadata": {
        "id": "j0kTjhiPSGkt"
      },
      "execution_count": null,
      "outputs": []
    },
    {
      "cell_type": "code",
      "source": [
        "#Seleccionando features normalizadas prescindiendo de \"Default\"\n",
        "features=X_clas\n",
        "scaler=MinMaxScaler(feature_range=(0,1))\n",
        "rescaledx =scaler.fit_transform(features)\n",
        "rescaledx"
      ],
      "metadata": {
        "id": "CX1YYkWlSPLN"
      },
      "execution_count": null,
      "outputs": []
    },
    {
      "cell_type": "code",
      "source": [
        "columns=list(df_escalado.columns)\n",
        "columns"
      ],
      "metadata": {
        "id": "qseZc4ULSvi1"
      },
      "execution_count": null,
      "outputs": []
    },
    {
      "cell_type": "code",
      "source": [
        "df_scaled = pd.DataFrame(data=rescaledx, columns =['DEST_CRED','SEXO','CATEGORIA_NEG','EXPERIENCIA_NEGOCIO',\n",
        "                                                 'ESTADO_CIVIL','EDAD','NIVEL_ENDEUDAMIENTO', 'NUMERO_ENTIDADES',\n",
        "                                                 'M_MAX','ING_BRUTO'])\n",
        "df_scaled"
      ],
      "metadata": {
        "id": "jsPS9TMdS7nP"
      },
      "execution_count": null,
      "outputs": []
    },
    {
      "cell_type": "code",
      "source": [
        "# Visualizando escalado\n",
        "sns.kdeplot(data = df_scaled)\n",
        "plt.show()"
      ],
      "metadata": {
        "id": "6n5zBmjfMvdn"
      },
      "execution_count": null,
      "outputs": []
    },
    {
      "cell_type": "code",
      "source": [
        "fig = plt.figure(figsize=(15,15))\n",
        "ax=fig.gca()\n",
        "df_scaled.plot(ax = ax, kind = 'density', subplots = True, layout = (5,4), sharex = False)\n",
        "plt.show()"
      ],
      "metadata": {
        "id": "5tcjLta0OXKf"
      },
      "execution_count": null,
      "outputs": []
    },
    {
      "cell_type": "code",
      "source": [
        "df_target_array = pd.DataFrame(data=Y_clas,columns = ['Default'])\n",
        "df_target_array"
      ],
      "metadata": {
        "id": "qlszGU6jPST2"
      },
      "execution_count": null,
      "outputs": []
    },
    {
      "cell_type": "code",
      "source": [
        "# Concatenando datos escalados con variable target\n",
        "df_consolidado = pd.concat([df_scaled, df_target_array], axis = 1)\n",
        "cols=df_consolidado.columns.tolist()\n",
        "cols"
      ],
      "metadata": {
        "id": "zBlHe4jzPhJP"
      },
      "execution_count": null,
      "outputs": []
    },
    {
      "cell_type": "code",
      "source": [
        "df_consolidado.sample(10)"
      ],
      "metadata": {
        "id": "5Z6HOmP6Qj-x"
      },
      "execution_count": null,
      "outputs": []
    },
    {
      "cell_type": "code",
      "source": [
        "fig = plt.figure(figsize = (15,15))\n",
        "ax =fig.gca()\n",
        "df_consolidado.plot(ax = ax, kind = 'box', subplots = True, layout =(6,6), sharex = False)\n",
        "plt.show()"
      ],
      "metadata": {
        "id": "VuL98JG8R8zt"
      },
      "execution_count": null,
      "outputs": []
    },
    {
      "cell_type": "markdown",
      "source": [
        "**Análisis multivariado**"
      ],
      "metadata": {
        "id": "7cbhiYEQ53Mr"
      }
    },
    {
      "cell_type": "code",
      "source": [
        "#Correlación de Pearson basado en métodos estadísticos y análisis de correlación\n",
        "df_corr=df_consolidado.copy()\n",
        "correlation = df_corr.corr(method ='pearson')\n",
        "correlation #arroja matriz de correlaciones"
      ],
      "metadata": {
        "id": "2edDz8vb5UMU"
      },
      "execution_count": null,
      "outputs": []
    },
    {
      "cell_type": "code",
      "source": [
        "df_corr.info()"
      ],
      "metadata": {
        "id": "1-bI6xiS7K_x"
      },
      "execution_count": null,
      "outputs": []
    },
    {
      "cell_type": "code",
      "source": [
        "matcorr=df_corr.corr()\n",
        "plt.figure(figsize=(15,15))\n",
        "ax= sns.heatmap(matcorr, vmax=1, square = True,annot = True, cmap = \"Dark2\")\n",
        "plt.title(\"Matriz de Correlaciones\", fontsize = 18)\n",
        "plt.show"
      ],
      "metadata": {
        "id": "s6QTitsF7WBn"
      },
      "execution_count": null,
      "outputs": []
    },
    {
      "cell_type": "code",
      "source": [
        "df_corr['Default'] = df_corr['Default'].astype(int)"
      ],
      "metadata": {
        "id": "Vc3IH9ZO85mP"
      },
      "execution_count": null,
      "outputs": []
    },
    {
      "cell_type": "code",
      "source": [
        "matcorr1=df_corr.corr()\n",
        "plt.figure(figsize=(15,15))\n",
        "ax= sns.heatmap(matcorr1, vmax=1, square = True,annot = True, cmap = \"Dark2\")\n",
        "plt.title(\"Matriz de Correlaciones\", fontsize = 18)\n",
        "plt.show"
      ],
      "metadata": {
        "id": "RP3vIzy79Kwa"
      },
      "execution_count": null,
      "outputs": []
    },
    {
      "cell_type": "code",
      "source": [
        "relevant_features=matcorr1[matcorr1>0.2]\n",
        "relevant_features"
      ],
      "metadata": {
        "id": "h9QZR1jX9jSw"
      },
      "execution_count": null,
      "outputs": []
    },
    {
      "cell_type": "code",
      "source": [
        "cor_target =abs(matcorr1['Default'])\n",
        "cor_target"
      ],
      "metadata": {
        "id": "-QC2JNv4-sU8"
      },
      "execution_count": null,
      "outputs": []
    },
    {
      "cell_type": "markdown",
      "source": [
        "**Selección de mejores features**"
      ],
      "metadata": {
        "id": "C47Lgvoe_ynR"
      }
    },
    {
      "cell_type": "code",
      "source": [
        "cor_target = abs(matcorr1['Default'])\n",
        "relevant_features = cor_target[cor_target>0.05]\n",
        "relevant_features"
      ],
      "metadata": {
        "id": "bI64BdJr_ph9"
      },
      "execution_count": null,
      "outputs": []
    },
    {
      "cell_type": "code",
      "source": [
        "#Cargue de librerías Machine Learning\n",
        "from sklearn.model_selection import train_test_split\n",
        "from sklearn.tree import DecisionTreeRegressor\n",
        "from sklearn.metrics import accuracy_score\n",
        "from sklearn.linear_model import LogisticRegression\n",
        "from sklearn.feature_selection import RFE"
      ],
      "metadata": {
        "id": "phAb9iUOATNo"
      },
      "execution_count": null,
      "outputs": []
    },
    {
      "cell_type": "code",
      "source": [
        "df_features = df_consolidado.copy()\n",
        "array = df_features.values\n",
        "X_class = array[ : ,0:9]\n",
        "Y_class = array[ : , 10]"
      ],
      "metadata": {
        "id": "AHZnRgoAA8XD"
      },
      "execution_count": null,
      "outputs": []
    },
    {
      "cell_type": "code",
      "source": [
        "X_train, X_test, Y_train, Y_test = train_test_split (X_class, Y_class, test_size=0.3, random_state = 7)\n",
        "\n",
        "depth = 5\n",
        "tree = DecisionTreeRegressor(criterion = 'friedman_mse', max_depth = depth)\n",
        "tree.fit(X_train, Y_train)\n",
        "\n",
        "#Extayendo índices\n",
        "subset =np.unique(tree.tree_.feature[tree.tree_.feature>=0])\n",
        "\n",
        "print(f'Total Variables: {X_class.shape[1]}')\n",
        "print(f'Variables utilizadas: {subset}')\n",
        "print(f'Entrenamiento: {tree.score(X_train, Y_train).round(2)}')\n",
        "print(f'Test: {tree.score(X_test, Y_test).round(2)}')"
      ],
      "metadata": {
        "id": "YHURVvMCCQsx"
      },
      "execution_count": null,
      "outputs": []
    },
    {
      "cell_type": "code",
      "source": [
        "df_features.sample(4)"
      ],
      "metadata": {
        "id": "D42aW-NMGJpG"
      },
      "execution_count": null,
      "outputs": []
    },
    {
      "cell_type": "code",
      "source": [
        "ranking = np.argsort(tree.feature_importances_)\n",
        "print(df_features.columns[ranking])"
      ],
      "metadata": {
        "id": "59_a0N4jGT1g"
      },
      "execution_count": null,
      "outputs": []
    },
    {
      "cell_type": "code",
      "source": [
        "from importlib import reload\n",
        "plt=reload(plt)\n",
        "\n",
        "importances=tree.feature_importances_\n",
        "\n",
        "plt.figure(figsize = (8,6))\n",
        "plt.title('Ranking Variables mas importantes')\n",
        "plt.barh(range(X_class.shape[1]), importances[ranking])\n",
        "plt.yticks(range(X_class.shape[1]),df_features.columns[ranking], fontsize=9)\n",
        "plt.show()"
      ],
      "metadata": {
        "id": "yx4TAlfzJiJ9"
      },
      "execution_count": null,
      "outputs": []
    },
    {
      "cell_type": "markdown",
      "source": [
        "**Selección y validación del modelo**"
      ],
      "metadata": {
        "id": "iy9iPgtmPuuE"
      }
    },
    {
      "cell_type": "code",
      "source": [
        "df_features.info()"
      ],
      "metadata": {
        "id": "797my4z6Pz4m"
      },
      "execution_count": null,
      "outputs": []
    },
    {
      "cell_type": "code",
      "source": [
        "df_features['Default'] = df_features['Default'].astype(int)"
      ],
      "metadata": {
        "id": "KjEXgQBxPsRB"
      },
      "execution_count": null,
      "outputs": []
    },
    {
      "cell_type": "code",
      "source": [
        "array = df_features.values\n",
        "X_class1 = array[ : , 0:9]\n",
        "Y_class1 = array[ : , 10]\n",
        "X_train, X_test, Y_train, Y_test = train_test_split (X_class1, Y_class1, test_size=0.2, random_state = 7)"
      ],
      "metadata": {
        "id": "aECTmKE2QDKf"
      },
      "execution_count": null,
      "outputs": []
    },
    {
      "cell_type": "code",
      "source": [
        "test_size = 0.3\n",
        "seed = 7\n",
        "\n",
        "#Creando modelo de regresión logística\n",
        "\n",
        "model = LogisticRegression(solver='lbfgs', max_iter=1000)\n",
        "model.fit(X_train, Y_train)\n",
        "results = model.score(X_test,Y_test)\n",
        "print(f'Accuracy_Logistic_Regressor: {results*100.0:,.2f}%')"
      ],
      "metadata": {
        "id": "lY8Fd6VlQlMP"
      },
      "execution_count": null,
      "outputs": []
    },
    {
      "cell_type": "markdown",
      "source": [
        "**Probando más modelos**"
      ],
      "metadata": {
        "id": "XXZH2C78WG06"
      }
    },
    {
      "cell_type": "code",
      "source": [
        "#Importando librerías con diversos modelos\n",
        "\n",
        "from sklearn.model_selection import KFold\n",
        "from sklearn.model_selection import cross_val_score\n",
        "from sklearn.neighbors import KNeighborsClassifier\n",
        "from sklearn.discriminant_analysis import LinearDiscriminantAnalysis\n",
        "from sklearn.svm import SVC\n",
        "from sklearn.naive_bayes import GaussianNB"
      ],
      "metadata": {
        "id": "59V4KdSRW7px"
      },
      "execution_count": null,
      "outputs": []
    },
    {
      "cell_type": "code",
      "source": [
        "models = []\n",
        "models.append(('LoR',LogisticRegression(solver='lbfgs', max_iter=1000)))\n",
        "models.append(('K-NN',KNeighborsClassifier()))\n",
        "models.append(('SVC',SVC(gamma ='auto')))\n",
        "models.append(('NB',GaussianNB()))"
      ],
      "metadata": {
        "id": "zrN6D-99Vt72"
      },
      "execution_count": null,
      "outputs": []
    },
    {
      "cell_type": "code",
      "source": [
        "results1=[]\n",
        "names=[]\n",
        "scoring = \"accuracy\""
      ],
      "metadata": {
        "id": "KOPRYj3aYjfV"
      },
      "execution_count": null,
      "outputs": []
    },
    {
      "cell_type": "code",
      "source": [
        "for name, model in models:\n",
        "  kfold = KFold(n_splits = 10)\n",
        "  cv_results = cross_val_score(model, X_class1, Y_class1, cv=kfold, scoring = scoring)\n",
        "  results1.append(cv_results)\n",
        "  names.append(name)"
      ],
      "metadata": {
        "id": "gguv2QQNYwtr"
      },
      "execution_count": null,
      "outputs": []
    },
    {
      "cell_type": "code",
      "source": [
        "fig = plt.figure()\n",
        "fig.suptitle(\"Comparación de Algorítmos\")\n",
        "ax=fig.add_subplot(111)\n",
        "plt.boxplot(results1)\n",
        "ax.set_xticklabels(names)\n",
        "plt.show()"
      ],
      "metadata": {
        "id": "S2Ar8kKWbhar"
      },
      "execution_count": null,
      "outputs": []
    },
    {
      "cell_type": "markdown",
      "source": [
        "El Gaussian Naive Bayes (GNB) es una técnica de clasificación utilizada en el aprendizaje automático basada en un enfoque probabilístico y una distribución gaussiana. Gaussian Naive Bayes asume que cada parámetro, también llamado características o predictores, tiene una capacidad independiente de predecir la variable de salida.\n",
        "\n",
        "Es una técnica de clasificación de aprendizaje automático basada en un enfoque probabilístico que supone que cada clase sigue una distribución normal. Asume que cada parámetro tiene una capacidad independiente de predecir la variable de salida. Es capaz de predecir la probabilidad de que una variable dependiente sea clasificada en cada grupo.\n",
        "\n",
        "https://builtin.com/artificial-intelligence/gaussian-naive-bayes"
      ],
      "metadata": {
        "id": "A6liFTmwuU1t"
      }
    }
  ]
}